{
 "cells": [
  {
   "cell_type": "code",
   "execution_count": null,
   "metadata": {
    "tags": []
   },
   "outputs": [],
   "source": [
    "value = 2\n",
    "match value:\n",
    "    case 2:\n",
    "        print('2')\n",
    "        print(f'{value} + 2 = {value + 2}')\n",
    "    case 4:\n",
    "        print('4')\n",
    "    case _:\n",
    "        print('8')"
   ]
  },
  {
   "cell_type": "code",
   "execution_count": null,
   "metadata": {
    "tags": []
   },
   "outputs": [],
   "source": [
    "value = 2\n",
    "match value2 := value + 2:\n",
    "    case 2:\n",
    "        print('2')\n",
    "        print(f'{value} + 2 = {value + 2}')\n",
    "    case 4:\n",
    "        print('4')\n",
    "    case _:\n",
    "        print('8')\n",
    "print(f'value = {value}')"
   ]
  },
  {
   "cell_type": "code",
   "execution_count": null,
   "metadata": {
    "tags": []
   },
   "outputs": [],
   "source": [
    "name = 'Alex'\n",
    "match name:\n",
    "    case 'Stanislav':\n",
    "        print('Admin')\n",
    "    case 'Maxim' | 'Alex' | 'Bill':\n",
    "        print('Employee')\n",
    "    case _:\n",
    "        print('Oo') "
   ]
  },
  {
   "cell_type": "code",
   "execution_count": null,
   "metadata": {},
   "outputs": [],
   "source": [
    "animal = ('Alex', 'cat', 10)\n",
    "match animal:\n",
    "    case ('Tom', 'dog', 14):\n",
    "        print('Dog')\n",
    "    case ('Alex', 'cat', 10):\n",
    "        print('Cat')\n"
   ]
  },
  {
   "cell_type": "code",
   "execution_count": null,
   "metadata": {},
   "outputs": [],
   "source": [
    "animal = ('Alex', 'dog', 10)\n",
    "match animal:\n",
    "    case ('Tom' | 'Alex', 'dog', 14 | 10):\n",
    "        print('Dog')\n",
    "    case ('Alex', 'cat', 10):\n",
    "        print('Cat')\n"
   ]
  },
  {
   "cell_type": "code",
   "execution_count": null,
   "metadata": {},
   "outputs": [],
   "source": [
    "animal = ('Tommy', 'cat', 10)\n",
    "match animal:\n",
    "    case ('Tom' | 'Alex', 'dog', 14 | 10):\n",
    "        print('Dog')\n",
    "    case ('Tommy', animal_type, age):\n",
    "        print(f'Tommy is {animal_type}, age = {age}')\n"
   ]
  },
  {
   "cell_type": "code",
   "execution_count": null,
   "metadata": {},
   "outputs": [],
   "source": [
    "animal = ('Tommy', 'cat', 10)\n",
    "match animal:\n",
    "    case ('Tom' | 'Alex', 'dog', 14 | 10):\n",
    "        print('Dog')\n",
    "    case ('Tommy', *att):\n",
    "        print(f'Tommy is {att[0]}, age = {att[1]}')\n"
   ]
  },
  {
   "cell_type": "code",
   "execution_count": null,
   "metadata": {},
   "outputs": [],
   "source": [
    "animals = ['dog', 'cat']\n",
    "match animals:\n",
    "    case [_]: # массив из 1-го любого элемента\n",
    "        print(animals)\n",
    "    case [_, _]: # массив из 2-х любых элементов\n",
    "        print(f'len = {len(animals)}, animals: {animals}')\n",
    "    case [_, _, _]: # массив из 3-х любых элементов\n",
    "        print(animals)\n",
    "# len = 2, animals: ['dog', 'cat']\n",
    "\n",
    "match animals:\n",
    "    case ['dog' | 'bird', 'cat']:\n",
    "        print(animals)\n",
    "    case ['bird', 'cat']:\n",
    "        print(animals)\n",
    "    case ['bird', 'cat' | 'dog']:\n",
    "        print(animals)\n",
    "# ['dog', 'cat']\n",
    "\n",
    "animals = ['dog', 'cat', 'bird', 'mouse']\n",
    "match animals:\n",
    "    case ['dog', 'cat']:\n",
    "        print(animals)\n",
    "    case ['dog', *any]:\n",
    "        print('dog', any)\n",
    "    case ['bird', 'cat' | 'dog']:\n",
    "        print(animals)\n",
    "# dog ['cat', 'bird', 'mouse']\n",
    "\n",
    "match animals:\n",
    "    case ['dog', 'mouse']:\n",
    "        print(animals)\n",
    "    case ['bird', 'cat' | 'dog']:\n",
    "        print(animals)\n",
    "    case ['dog', second_animal, *_]:\n",
    "        print(f'First - dog, second - {second_animal}')\n",
    "# First - dog, second – cat\n"
   ]
  },
  {
   "cell_type": "code",
   "execution_count": null,
   "metadata": {},
   "outputs": [],
   "source": [
    "animal = {'animal': 'dog', 'name': 'Tom', 'age': 3}\n",
    "match animal:\n",
    "    case {'animal': 'cat', 'name': 'Tommy', 'age': 3}:\n",
    "        print('It is cat', animal)\n",
    "    case {'animal': 'bird', 'name': 'Alex', 'age': 3}:\n",
    "        print('It is bird', animal)\n",
    "    case {'animal': 'dog', 'name': 'Tom', 'age': 3}:\n",
    "        print('It is dog', animal)\n",
    "    case {}:\n",
    "        print('dict have not necessary keys')\n",
    "    case _:\n",
    "        print(\"It is not dict\")\n",
    "# It is dog {'animal': 'dog', 'name': 'Tom', 'age': 3}\n",
    "\n",
    "animal['name'] = 'Alex'\n",
    "match animal:\n",
    "    case {'animal': 'cat', 'name': 'Tommy', 'age': 3}:\n",
    "        print('It is cat', animal)\n",
    "    case {'animal': 'bird', 'name': 'Alex', 'age': 3}:\n",
    "        print('It is bird', animal)\n",
    "    case {'animal': 'dog' | 'cat', 'name': 'Tom' | 'Alex', 'age': 3}:\n",
    "        print('It is cat or dog', animal)\n",
    "    case {}:\n",
    "        print('dict have not necessary keys')\n",
    "    case _:\n",
    "        print(\"It is not dict\")\n",
    "# It is cat or dog {'animal': 'dog', 'name': 'Alex', 'age': 3}\n"
   ]
  },
  {
   "cell_type": "code",
   "execution_count": null,
   "metadata": {},
   "outputs": [],
   "source": [
    "man = {'name': 'Alex'}\n",
    "match man:\n",
    "    case {'animal': 'cat'}:\n",
    "        print('It is cat')\n",
    "    case {'animal': 'dog'} | {'name': 'Alex'}:\n",
    "        print('It is dog or man')\n",
    "    case {}:\n",
    "        print('dict have not necessary keys')\n",
    "    case _:\n",
    "        print(\"It is not dict\")\n",
    "#It is dog or man\n"
   ]
  },
  {
   "cell_type": "code",
   "execution_count": null,
   "metadata": {},
   "outputs": [],
   "source": [
    "animal = {'animal': 'dog', 'name': 'Tommy'}\n",
    "match animal:\n",
    "    case {'animal': animal_type, 'name': name}:\n",
    "        print(f'{name} is {animal_type}')\n",
    "    case {'animal': 'bird', 'name': _}: # имя не важно\n",
    "        print('It is bird', animal)\n",
    "    case {}:\n",
    "        print('dict have not necessary keys')\n",
    "    case _:\n",
    "        print(\"It is not dict\")\n"
   ]
  },
  {
   "cell_type": "code",
   "execution_count": null,
   "metadata": {},
   "outputs": [],
   "source": [
    "animal = {'animal': 'dog', 'name': 'Tommy', 'age': 3}\n",
    "match animal:\n",
    "    case {'animal': animal_type, **kwarg}:\n",
    "        print(f'It is {animal_type}')\n",
    "        for key in kwarg:\n",
    "            print(f\"{key}: {kwarg[key]}\")\n",
    "    case {}:\n",
    "        print('dict have not necessary keys')\n",
    "    case _:\n",
    "        print(\"It is not dict\")\n"
   ]
  }
 ],
 "metadata": {
  "file_extension": ".py",
  "kernelspec": {
   "display_name": "Python 3.7.4 64-bit ('base': conda)",
   "name": "python37464bitbaseconda965802ec3bac4354bcdf100448e694ef"
  },
  "language_info": {
   "codemirror_mode": {
    "name": "ipython",
    "version": 3
   },
   "name": "python",
   "version": "3.8.3-final"
  },
  "mimetype": "text/x-python",
  "name": "python",
  "npconvert_exporter": "python",
  "orig_nbformat": 2,
  "pygments_lexer": "ipython3",
  "version": 3
 },
 "nbformat": 4,
 "nbformat_minor": 2
}
